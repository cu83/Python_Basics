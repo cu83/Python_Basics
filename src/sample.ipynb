{
 "cells": [
  {
   "metadata": {},
   "cell_type": "markdown",
   "source": [
    "**Python Basics**\n",
    "- Data Types\n",
    "- Comparison Operators\n",
    "- Python Statements and Iterations\n",
    "- Methods and Functions\n",
    "- Object Oriented Programming\n",
    "- Errors and Exception Handling\n",
    "- Python Decorators and Generators\n",
    "- Modules and Packages\n",
    "\n",
    "**Advance Python Applications**\n",
    "- Web Scraping\n",
    "- Data Analysis\n",
    "- API Development\n",
    "- Machine Learning and Data Science"
   ],
   "id": "243cfe209d22981e"
  },
  {
   "metadata": {},
   "cell_type": "code",
   "source": [
    "'''\n",
    "This is a collection of basic python architecture for beginners.\n",
    "'''"
   ],
   "id": "169c6def9818e850",
   "outputs": [],
   "execution_count": null
  },
  {
   "metadata": {
    "ExecuteTime": {
     "end_time": "2025-08-09T14:42:47.585175Z",
     "start_time": "2025-08-09T14:42:47.563999Z"
    }
   },
   "cell_type": "code",
   "source": [
    "# Inheritance\n",
    "class Rectangle:\n",
    "    length = 0\n",
    "    width = 0\n",
    "    def shape(self):\n",
    "        print('Shape Created')\n",
    "\n",
    "class Square(Rectangle):\n",
    "    def area(self):\n",
    "        return self.length * self.width\n",
    "    def perimeter(self):\n",
    "        return 2 * (self.length + self.width)\n",
    "\n",
    "s = Square()\n",
    "s.shape()\n",
    "s.length = 5\n",
    "s.width = 12\n",
    "print(s.area())\n",
    "print(s.perimeter())"
   ],
   "id": "43806c033a7e24c1",
   "outputs": [
    {
     "name": "stdout",
     "output_type": "stream",
     "text": [
      "Shape Created\n",
      "60\n",
      "34\n"
     ]
    }
   ],
   "execution_count": 47
  }
 ],
 "metadata": {
  "kernelspec": {
   "display_name": "Python 3",
   "language": "python",
   "name": "python3"
  },
  "language_info": {
   "codemirror_mode": {
    "name": "ipython",
    "version": 2
   },
   "file_extension": ".py",
   "mimetype": "text/x-python",
   "name": "python",
   "nbconvert_exporter": "python",
   "pygments_lexer": "ipython2",
   "version": "2.7.6"
  }
 },
 "nbformat": 4,
 "nbformat_minor": 5
}
