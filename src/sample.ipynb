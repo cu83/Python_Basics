{
 "cells": [
  {
   "metadata": {
    "ExecuteTime": {
     "end_time": "2025-08-06T16:05:21.038813Z",
     "start_time": "2025-08-06T16:05:21.033799Z"
    }
   },
   "cell_type": "code",
   "source": [
    "import pandas as pd\n",
    "import numpy as np"
   ],
   "id": "2009c5e17851d00c",
   "outputs": [],
   "execution_count": 5
  },
  {
   "metadata": {
    "ExecuteTime": {
     "end_time": "2025-08-08T16:52:24.658291Z",
     "start_time": "2025-08-08T16:52:24.619983Z"
    }
   },
   "cell_type": "code",
   "source": [
    "s = \"MCMXCIV\"\n",
    "numerals = {'I':1, 'V':5, 'X':10, 'L':50, 'C':100, 'D':500, 'M':1000}\n",
    "letters = [letter for letter in s]\n",
    "value = 0\n",
    "\n",
    "for i in range(len(letters)):\n",
    "    for key, values in numerals.items():\n",
    "        if letters[i] == key:\n",
    "            value += values\n",
    "        else:\n",
    "            continue\n",
    "\n",
    "value"
   ],
   "id": "96e9cc8a2e497580",
   "outputs": [
    {
     "data": {
      "text/plain": [
       "2216"
      ]
     },
     "execution_count": 39,
     "metadata": {},
     "output_type": "execute_result"
    }
   ],
   "execution_count": 39
  }
 ],
 "metadata": {
  "kernelspec": {
   "display_name": "Python 3",
   "language": "python",
   "name": "python3"
  },
  "language_info": {
   "codemirror_mode": {
    "name": "ipython",
    "version": 2
   },
   "file_extension": ".py",
   "mimetype": "text/x-python",
   "name": "python",
   "nbconvert_exporter": "python",
   "pygments_lexer": "ipython2",
   "version": "2.7.6"
  }
 },
 "nbformat": 4,
 "nbformat_minor": 5
}
