{
 "cells": [
  {
   "metadata": {
    "ExecuteTime": {
     "end_time": "2025-08-06T16:05:21.038813Z",
     "start_time": "2025-08-06T16:05:21.033799Z"
    }
   },
   "cell_type": "code",
   "source": [
    "import pandas as pd\n",
    "import numpy as np"
   ],
   "id": "2009c5e17851d00c",
   "outputs": [],
   "execution_count": 5
  },
  {
   "metadata": {
    "ExecuteTime": {
     "end_time": "2025-08-08T14:04:29.160165Z",
     "start_time": "2025-08-08T14:04:29.133796Z"
    }
   },
   "cell_type": "code",
   "source": [
    "class Books:\n",
    "    def __init__(self, title, author, pages):\n",
    "        self.title = title\n",
    "        self.author = author\n",
    "        self.pages = pages\n",
    "    def collections(self):\n",
    "        return f'Book Title: {self.title}, Author: {self.author}, Pages: {self.pages}'\n"
   ],
   "id": "5d1a3fd48fc79967",
   "outputs": [],
   "execution_count": 23
  },
  {
   "metadata": {
    "ExecuteTime": {
     "end_time": "2025-08-08T14:05:21.497476Z",
     "start_time": "2025-08-08T14:05:21.484961Z"
    }
   },
   "cell_type": "code",
   "source": [
    "book1 = Books('Hamlet', 'Shakespear', 500)\n",
    "print(book1.collections())"
   ],
   "id": "dba53b72c3e6b3d2",
   "outputs": [
    {
     "name": "stdout",
     "output_type": "stream",
     "text": [
      "Book Title: Hamlet, Author: Shakespear, Pages: 500\n"
     ]
    }
   ],
   "execution_count": 24
  }
 ],
 "metadata": {
  "kernelspec": {
   "display_name": "Python 3",
   "language": "python",
   "name": "python3"
  },
  "language_info": {
   "codemirror_mode": {
    "name": "ipython",
    "version": 2
   },
   "file_extension": ".py",
   "mimetype": "text/x-python",
   "name": "python",
   "nbconvert_exporter": "python",
   "pygments_lexer": "ipython2",
   "version": "2.7.6"
  }
 },
 "nbformat": 4,
 "nbformat_minor": 5
}
