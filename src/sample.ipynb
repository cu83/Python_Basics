{
 "cells": [
  {
   "metadata": {
    "ExecuteTime": {
     "end_time": "2025-08-06T16:05:21.038813Z",
     "start_time": "2025-08-06T16:05:21.033799Z"
    }
   },
   "cell_type": "code",
   "source": [
    "import pandas as pd\n",
    "import numpy as np"
   ],
   "id": "2009c5e17851d00c",
   "outputs": [],
   "execution_count": 5
  },
  {
   "metadata": {
    "ExecuteTime": {
     "end_time": "2025-08-06T16:06:11.706377Z",
     "start_time": "2025-08-06T16:06:11.665667Z"
    }
   },
   "cell_type": "code",
   "source": [
    "'''\n",
    "%SAMPLE COMMIT FILE\n",
    "'''"
   ],
   "id": "dba53b72c3e6b3d2",
   "outputs": [
    {
     "data": {
      "text/plain": [
       "'\\n%SAMPLE COMMIT FILE\\n'"
      ]
     },
     "execution_count": 9,
     "metadata": {},
     "output_type": "execute_result"
    }
   ],
   "execution_count": 9
  }
 ],
 "metadata": {
  "kernelspec": {
   "display_name": "Python 3",
   "language": "python",
   "name": "python3"
  },
  "language_info": {
   "codemirror_mode": {
    "name": "ipython",
    "version": 2
   },
   "file_extension": ".py",
   "mimetype": "text/x-python",
   "name": "python",
   "nbconvert_exporter": "python",
   "pygments_lexer": "ipython2",
   "version": "2.7.6"
  }
 },
 "nbformat": 4,
 "nbformat_minor": 5
}
